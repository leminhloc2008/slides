{
 "metadata": {
  "language_info": {
   "codemirror_mode": {
    "name": "ipython",
    "version": 3
   },
   "file_extension": ".py",
   "mimetype": "text/x-python",
   "name": "python",
   "nbconvert_exporter": "python",
   "pygments_lexer": "ipython3",
   "version": "3.9.1"
  },
  "orig_nbformat": 2,
  "kernelspec": {
   "name": "python3",
   "display_name": "Python 3",
   "language": "python"
  }
 },
 "nbformat": 4,
 "nbformat_minor": 2,
 "cells": [
  {
   "cell_type": "code",
   "execution_count": null,
   "metadata": {},
   "outputs": [],
   "source": [
    "import pandas as pd"
   ]
  },
  {
   "cell_type": "code",
   "execution_count": null,
   "metadata": {},
   "outputs": [],
   "source": [
    "# load data\n",
    "titanic_in = pd.read_csv(\n",
    "    \"https://public.opendatasoft.com/explore/dataset/titanic-passengers/download\",\n",
    "    delimiter=\";\",\n",
    ")\n",
    "titanic_in"
   ]
  },
  {
   "cell_type": "code",
   "execution_count": null,
   "metadata": {},
   "outputs": [],
   "source": [
    "# pre-process and assemble data\n",
    "\n",
    "titanic = pd.DataFrame()\n",
    "titanic[\"class\"] = titanic_in[\"pclass\"]\n",
    "titanic[\"female\"] = titanic_in[\"sex\"].replace({\"female\": True, \"male\": False})\n",
    "titanic[\"age\"] = titanic_in[\"age\"]\n",
    "titanic[\"age\"].fillna(value=titanic[\"age\"].mean(), inplace=True)\n",
    "titanic[\"family_members\"] = titanic_in[\"sibsp\"]\n",
    "titanic[\"parch\"] = titanic_in[\"parch\"]\n",
    "titanic[\"fare\"] = titanic_in[\"fare\"]\n",
    "titanic[\"survived\"] = titanic_in[\"survived\"].replace({\"Yes\": True, \"No\": False})\n",
    "\n",
    "titanic"
   ]
  },
  {
   "cell_type": "code",
   "execution_count": null,
   "metadata": {},
   "outputs": [],
   "source": [
    "from sklearn.linear_model import LinearRegression\n",
    "from sklearn.model_selection import train_test_split\n",
    "from sklearn import metrics"
   ]
  },
  {
   "cell_type": "code",
   "execution_count": null,
   "metadata": {},
   "outputs": [],
   "source": [
    "# train model and inspect coefficients\n",
    "\n",
    "x = titanic.loc[:, [\"class\", \"female\", \"age\", \"family_members\", \"parch\", \"fare\"]]\n",
    "y = titanic.loc[:, \"survived\"]\n",
    "\n",
    "x_train, x_test, y_train, y_test = train_test_split(x, y, random_state=1)\n",
    "\n",
    "model = LinearRegression()\n",
    "model.fit(x_train, y_train)\n",
    "print(model.coef_)\n",
    "\n",
    "y_pred = model.predict(x_test).round()\n",
    "score = metrics.accuracy_score(y_pred.round(), y_test)\n",
    "print(f\"score: {score}\")\n",
    "\n",
    "model.predict([[3, 0, 30, 0, 0, 10], [1, 1, 10, 3, 1, 40]])"
   ]
  },
  {
   "cell_type": "code",
   "execution_count": null,
   "metadata": {},
   "outputs": [],
   "source": [
    "# train model with reduced set of coefficients\n",
    "\n",
    "x = titanic.loc[:, [\"class\", \"female\", \"age\", \"family_members\"]]\n",
    "y = titanic.loc[:, \"survived\"]\n",
    "\n",
    "x_train, x_test, y_train, y_test = train_test_split(x, y, random_state=1)\n",
    "\n",
    "model = LinearRegression()\n",
    "model.fit(x_train, y_train)\n",
    "print(model.coef_)\n",
    "\n",
    "y_pred = model.predict(x_test).round()\n",
    "score = metrics.accuracy_score(y_pred.round(), y_test)\n",
    "print(f\"score: {score}\")\n",
    "\n",
    "# results:\n",
    "# a class number that's lower by 1 increases the chance of survival by 14%\n",
    "# female passengers have a 49% higher chance of survival than males"
   ]
  },
  {
   "cell_type": "code",
   "execution_count": null,
   "metadata": {},
   "outputs": [],
   "source": []
  }
 ]
}